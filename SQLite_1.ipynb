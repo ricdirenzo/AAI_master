{
 "cells": [
  {
   "cell_type": "markdown",
   "id": "c833dd8c-8d3e-4715-b8a2-5e9b2f402b04",
   "metadata": {},
   "source": [
    "# SQLite3 tutorial"
   ]
  },
  {
   "cell_type": "markdown",
   "id": "89661801-35f2-4cb4-aa16-00a8fb840fb5",
   "metadata": {},
   "source": [
    "https://docs.python.org/3/library/sqlite3.html"
   ]
  },
  {
   "cell_type": "markdown",
   "id": "79fdf5b7-1c3f-41fb-8389-c875d19fabc7",
   "metadata": {},
   "source": [
    "In this notebook we will create a database of fictitious company using basic sqlite3 functionality."
   ]
  },
  {
   "cell_type": "code",
   "execution_count": 1,
   "id": "d72a14bf-e130-491b-b361-d3ef5ad12e52",
   "metadata": {},
   "outputs": [],
   "source": [
    "import sqlite3"
   ]
  },
  {
   "cell_type": "markdown",
   "id": "ab1ee5bf-3198-4c10-bc35-f8b642c9993c",
   "metadata": {},
   "source": [
    "## Connection"
   ]
  },
  {
   "cell_type": "markdown",
   "id": "89b5c5cf-a9b1-4715-90e2-dd135efbd3b5",
   "metadata": {},
   "source": [
    "First, we need to create a new database and open a database connection to allow sqlite3 to work with it. Call `sqlite3.connect()` to create a connection to the database `company.db` in the current working directory, implicitly creating it if it does not exist:"
   ]
  },
  {
   "cell_type": "code",
   "execution_count": 3,
   "id": "e5253b4e-85db-4171-a895-524f8dee2110",
   "metadata": {},
   "outputs": [],
   "source": [
    "con = sqlite3.connect('company.db')"
   ]
  },
  {
   "cell_type": "markdown",
   "id": "b6158cd5-ca79-4172-937c-46bfd0e03731",
   "metadata": {},
   "source": [
    "## Cursor"
   ]
  },
  {
   "cell_type": "markdown",
   "id": "65adae39-e8f2-4080-a476-370433d608d9",
   "metadata": {},
   "source": [
    "The returned connection object `con` represents the connection to the on-disk database. \n",
    "\n",
    "\r\n",
    "In order to execute SQL statements and fetch results from SQL queries, we will need to use a database cursor\n",
    "\n",
    "Call `con.nursor()`() to create thc Cursor:"
   ]
  },
  {
   "cell_type": "code",
   "execution_count": 5,
   "id": "6c235e64-b895-473d-a14c-255fee0e8dfb",
   "metadata": {},
   "outputs": [],
   "source": [
    "cur = con.cursor()"
   ]
  },
  {
   "cell_type": "markdown",
   "id": "c996af49-2d54-4e0d-9845-c6f7785c09e5",
   "metadata": {},
   "source": [
    "Now that we have got a database connection and a cursor, we can create the database tables company and insert data into it. For simplicity, we can just use SQL file to import into work environment all tables. \n",
    "\n",
    "In order to execute SQL queries, we need to use file `company.sql` and open in python to work with it."
   ]
  },
  {
   "cell_type": "code",
   "execution_count": 7,
   "id": "b2376f98-e998-4561-a130-c10e23d8a50e",
   "metadata": {},
   "outputs": [],
   "source": [
    "class AcquireData:\n",
    "    '''Acquirement of data by type input file SQL'''\n",
    "    def __init__(self):\n",
    "        self.name = self.execute_script()\n",
    "\n",
    "    def execute_script(self):\n",
    "        try:\n",
    "            cur.executescript(self.acquire_file())\n",
    "            print('SQL statements executed successfully!')\n",
    "\n",
    "        except sqlite3.Error as err:\n",
    "            print(f'Error running the script: {err}')\n",
    "\n",
    "        con.commit()\n",
    "\n",
    "    def acquire_file(self):\n",
    "        proceed = True\n",
    "\n",
    "        while proceed:\n",
    "            filename = input('Type correct name of input file: ')\n",
    "            \n",
    "            try:\n",
    "                # S := SQL file\n",
    "                with open(filename, 'r') as S:\n",
    "                    # s := statements\n",
    "                    s = S.read()\n",
    "        \n",
    "                print('Input file SQL acquired successfully!')\n",
    "                proceed = False\n",
    "\n",
    "                return s\n",
    "        \n",
    "            except FileNotFoundError:\n",
    "                print('File not found! Retry please!\\n')"
   ]
  },
  {
   "cell_type": "code",
   "execution_count": 9,
   "id": "63e7c571-71ca-44c5-a6fa-5de14d85394b",
   "metadata": {
    "scrolled": true
   },
   "outputs": [
    {
     "data": {
      "text/plain": [
       "'Acquirement of data by type input file SQL'"
      ]
     },
     "execution_count": 9,
     "metadata": {},
     "output_type": "execute_result"
    }
   ],
   "source": [
    "AcquireData.__doc__"
   ]
  },
  {
   "cell_type": "code",
   "execution_count": 11,
   "id": "3ead6228-b17b-43b5-8a63-ec0b2a0a2b24",
   "metadata": {},
   "outputs": [
    {
     "name": "stdin",
     "output_type": "stream",
     "text": [
      "Type correct name of input file:  company.sqlx\n"
     ]
    },
    {
     "name": "stdout",
     "output_type": "stream",
     "text": [
      "File not found! Retry please!\n",
      "\n"
     ]
    },
    {
     "name": "stdin",
     "output_type": "stream",
     "text": [
      "Type correct name of input file:  company.sql\n"
     ]
    },
    {
     "name": "stdout",
     "output_type": "stream",
     "text": [
      "Input file SQL acquired successfully!\n",
      "SQL statements executed successfully!\n"
     ]
    },
    {
     "data": {
      "text/plain": [
       "<__main__.AcquireData at 0x1dbc0425af0>"
      ]
     },
     "execution_count": 11,
     "metadata": {},
     "output_type": "execute_result"
    }
   ],
   "source": [
    "AcquireData()"
   ]
  },
  {
   "cell_type": "markdown",
   "id": "9dc2aa07-cb99-4aa0-bc56-7b0628a2b746",
   "metadata": {},
   "source": [
    "## Queries"
   ]
  },
  {
   "cell_type": "markdown",
   "id": "31cfa640-86f3-48be-a535-ddd65d73f57e",
   "metadata": {},
   "source": [
    "#### 1. The birth date and address for the employees whose name is 'John B. smith'"
   ]
  },
  {
   "cell_type": "code",
   "execution_count": 242,
   "id": "cbb18b6e-5698-4366-a961-cbb88606d0e3",
   "metadata": {},
   "outputs": [
    {
     "data": {
      "text/plain": [
       "[('1955-01-09', '731 Fondren, Houston, TX')]"
      ]
     },
     "execution_count": 242,
     "metadata": {},
     "output_type": "execute_result"
    }
   ],
   "source": [
    "res = con.execute(\n",
    "    '''\n",
    "        SELECT bdate, address FROM employee\n",
    "        WHERE fname = 'John' AND minit = 'B' AND lname = 'Smith'\n",
    "    '''\n",
    ")\n",
    "\n",
    "res.fetchall()"
   ]
  },
  {
   "cell_type": "markdown",
   "id": "877ccfb3-0767-422e-a5a3-99b2e5f59d16",
   "metadata": {},
   "source": [
    "#### 2. The name and address of all employees who work for the 'Research' department"
   ]
  },
  {
   "cell_type": "code",
   "execution_count": 277,
   "id": "2d43452e-4c58-4ddf-bffe-121172461797",
   "metadata": {},
   "outputs": [
    {
     "data": {
      "text/plain": [
       "['fname',\n",
       " 'minit',\n",
       " 'lname',\n",
       " 'ssn',\n",
       " 'bdate',\n",
       " 'address',\n",
       " 'sex',\n",
       " 'salary',\n",
       " 'superssn',\n",
       " 'dno']"
      ]
     },
     "execution_count": 277,
     "metadata": {},
     "output_type": "execute_result"
    }
   ],
   "source": [
    "res = con.execute('''SELECT * FROM employee''')\n",
    "[i[0] for i in res.description]"
   ]
  },
  {
   "cell_type": "code",
   "execution_count": 15,
   "id": "218f0a5e-bf8b-41d9-adbe-4390a5cf64bd",
   "metadata": {},
   "outputs": [
    {
     "data": {
      "text/plain": [
       "['dname', 'dnumber', 'mgrssn', 'mgrstartdate']"
      ]
     },
     "execution_count": 15,
     "metadata": {},
     "output_type": "execute_result"
    }
   ],
   "source": [
    "res = con.execute('''SELECT * FROM department''')\n",
    "[i[0] for i in res.description]"
   ]
  },
  {
   "cell_type": "code",
   "execution_count": 275,
   "id": "70266270-f86d-43f8-8024-ed6ba0493c9a",
   "metadata": {},
   "outputs": [
    {
     "data": {
      "text/plain": [
       "[('Franklin', 'T', 'Wong', '638 Voss, Houston, TX'),\n",
       " ('John', 'B', 'Smith', '731 Fondren, Houston, TX'),\n",
       " ('Joyce', 'A', 'English', '5631 Rice, Houston, TX'),\n",
       " ('Ramesh', 'K', 'Narayan', '971 Fire Oak, Humble, TX')]"
      ]
     },
     "execution_count": 275,
     "metadata": {},
     "output_type": "execute_result"
    }
   ],
   "source": [
    "res = con.execute(\n",
    "    '''\n",
    "        SELECT fname, minit, lname, address FROM employee\n",
    "            JOIN department\n",
    "            ON employee.dno = department.dnumber\n",
    "            WHERE department.dname = 'Research'\n",
    "    '''\n",
    ")\n",
    "\n",
    "res.fetchall()"
   ]
  },
  {
   "cell_type": "markdown",
   "id": "1e348371-7b44-4820-8950-d89b05c9a278",
   "metadata": {},
   "source": [
    "#### 3. For every project located 'Stafford', list the project number, the controlling department number and the department manager's last name, address and birth date."
   ]
  },
  {
   "cell_type": "code",
   "execution_count": 315,
   "id": "a5922657-9b15-4faf-8dbd-19f441df11d9",
   "metadata": {},
   "outputs": [
    {
     "data": {
      "text/plain": [
       "[(10, 4, 'Wallace', '291 Berry, Bellaire, TX', '1931-06-20'),\n",
       " (30, 4, 'Wallace', '291 Berry, Bellaire, TX', '1931-06-20')]"
      ]
     },
     "execution_count": 315,
     "metadata": {},
     "output_type": "execute_result"
    }
   ],
   "source": [
    "res = con.execute(\n",
    "    '''\n",
    "        SELECT pnumber, dnum, lname, address, bdate FROM employee\n",
    "            JOIN project JOIN department\n",
    "            ON employee.ssn = department.mgrssn\n",
    "            AND project.dnum = department.dnumber\n",
    "            WHERE plocation = 'Stafford'\n",
    "    '''\n",
    ")\n",
    "\n",
    "res.fetchall()"
   ]
  },
  {
   "cell_type": "markdown",
   "id": "1a4fc81a-edaf-48ca-9743-15cab5a875bb",
   "metadata": {},
   "source": [
    "#### 4. Number of employees in each department"
   ]
  },
  {
   "cell_type": "code",
   "execution_count": 17,
   "id": "d71e95ec-82b6-40a6-82ad-e6d30a2be62b",
   "metadata": {},
   "outputs": [
    {
     "data": {
      "text/plain": [
       "[('Headquarters', 1),\n",
       " ('Administration', 3),\n",
       " ('Research', 4),\n",
       " ('Software', 8),\n",
       " ('Hardware', 10),\n",
       " ('Sales', 14)]"
      ]
     },
     "execution_count": 17,
     "metadata": {},
     "output_type": "execute_result"
    }
   ],
   "source": [
    "res = con.execute(\n",
    "    '''\n",
    "        SELECT dname, COUNT(*) AS N FROM employee JOIN department\n",
    "            ON department.dnumber = employee.dno\n",
    "        GROUP BY department.dname\n",
    "        ORDER BY N\n",
    "    '''\n",
    ")\n",
    "\n",
    "res.fetchall()"
   ]
  },
  {
   "cell_type": "code",
   "execution_count": 19,
   "id": "8a1c1364-c83c-4452-86a1-3a17a52c2788",
   "metadata": {},
   "outputs": [],
   "source": [
    "res = con.execute(\n",
    "    '''\n",
    "        SELECT dname, COUNT(*) AS N FROM employee JOIN department\n",
    "            ON department.dnumber = employee.dno\n",
    "        GROUP BY department.dname\n",
    "        ORDER BY N\n",
    "    '''\n",
    ")\n",
    "\n",
    "dep, n = [], []\n",
    "for x in res.fetchall():\n",
    "    dep.append(x[0])\n",
    "    n.append(x[1])"
   ]
  },
  {
   "cell_type": "code",
   "execution_count": 21,
   "id": "b1b1670d-4067-43cf-814d-524b9d02a482",
   "metadata": {
    "scrolled": true
   },
   "outputs": [
    {
     "data": {
      "text/plain": [
       "(1, 14)"
      ]
     },
     "execution_count": 21,
     "metadata": {},
     "output_type": "execute_result"
    }
   ],
   "source": [
    "min(n), max(n)"
   ]
  },
  {
   "cell_type": "code",
   "execution_count": 23,
   "id": "9d1756eb-f482-4e09-973f-ba608bb0453f",
   "metadata": {},
   "outputs": [],
   "source": [
    "import matplotlib.pyplot as plt"
   ]
  },
  {
   "cell_type": "code",
   "execution_count": 25,
   "id": "98acd9d0-d1a3-4d69-9260-a046b7418e1d",
   "metadata": {},
   "outputs": [
    {
     "data": {
      "image/png": "[encoded data removed]",
      "text/plain": [
       "<Figure size 640x480 with 1 Axes>"
      ]
     },
     "metadata": {},
     "output_type": "display_data"
    }
   ],
   "source": [
    "plt.style.use('dark_background')\n",
    "plt.title('Number of employees in each department\\n')\n",
    "\n",
    "palette = [{i<5: 'darkblue', 5<=i<=10: 'blue', i>10: 'lightblue'}[True] for i in n]\n",
    "\n",
    "plt.barh(y=dep, width=n, color = palette)\n",
    "plt.grid()\n",
    "\n",
    "for index, value in enumerate(n):\n",
    "    plt.text(value, index, str(value), fontweight = 'bold')"
   ]
  },
  {
   "cell_type": "markdown",
   "id": "da770f71-c57a-4b97-965a-1fc712a35d56",
   "metadata": {},
   "source": [
    "#### 5. Percentage of employment by sex"
   ]
  },
  {
   "cell_type": "markdown",
   "id": "4b06a845-93c0-4cc1-9124-01722cb713dd",
   "metadata": {},
   "source": [
    "Total employment by sex"
   ]
  },
  {
   "cell_type": "code",
   "execution_count": 29,
   "id": "50beed12-9d4b-483c-8c78-089934fdd44f",
   "metadata": {},
   "outputs": [],
   "source": [
    "res = con.execute(\n",
    "    '''\n",
    "        SELECT sex, COUNT(sex) AS SEX FROM employee JOIN department\n",
    "            ON department.dnumber = employee.dno\n",
    "        GROUP BY sex\n",
    "    '''\n",
    ")\n",
    "\n",
    "sex, n = [], []\n",
    "for x in res.fetchall():\n",
    "    sex.append(x[0])\n",
    "    n.append(x[1])"
   ]
  },
  {
   "cell_type": "code",
   "execution_count": 31,
   "id": "453dc961-e3bf-4061-8226-69d34ac8f4cc",
   "metadata": {},
   "outputs": [
    {
     "name": "stdout",
     "output_type": "stream",
     "text": [
      "F: 11\n",
      "M: 29\n"
     ]
    }
   ],
   "source": [
    "for i, j in zip(sex, n):\n",
    "    print(f'{i}: {j}')"
   ]
  },
  {
   "cell_type": "code",
   "execution_count": 33,
   "id": "e143eb4b-dfe2-41f1-8eab-4b414e5b1335",
   "metadata": {},
   "outputs": [
    {
     "data": {
      "text/plain": [
       "[27.5, 72.5]"
      ]
     },
     "execution_count": 33,
     "metadata": {},
     "output_type": "execute_result"
    }
   ],
   "source": [
    "p = [100 * i/sum(n) for i in n]\n",
    "p"
   ]
  },
  {
   "cell_type": "code",
   "execution_count": 37,
   "id": "c28d00ad-b693-454a-8b44-d1de2190922e",
   "metadata": {},
   "outputs": [
    {
     "data": {
      "image/png": "[encoded data removed]",
      "text/plain": [
       "<Figure size 640x480 with 1 Axes>"
      ]
     },
     "metadata": {},
     "output_type": "display_data"
    }
   ],
   "source": [
    "plt.title('Percentage of employees by sex')\n",
    "plt.pie(\n",
    "    p, \n",
    "    labels=sex, \n",
    "    autopct='%1.1f%%',\n",
    "    textprops={'fontsize': 14},\n",
    "    colors=['blue', 'darkblue'],\n",
    "    shadow=True,\n",
    "    frame=False,\n",
    "    explode=tuple(.05 for i in range(len(n)))\n",
    ");"
   ]
  },
  {
   "cell_type": "markdown",
   "id": "c19acf06-3016-4d43-bb50-3217d4daba36",
   "metadata": {},
   "source": [
    "Percentage of workforce per department by sex"
   ]
  },
  {
   "cell_type": "code",
   "execution_count": 39,
   "id": "8c1e2bed-4a50-427a-b93b-a1fe658dccb9",
   "metadata": {},
   "outputs": [],
   "source": [
    "def custom_pie(department):\n",
    "\n",
    "    res = con.execute(\n",
    "        f'''\n",
    "            SELECT sex, COUNT(sex) AS SEX FROM employee JOIN department\n",
    "                ON department.dnumber = employee.dno\n",
    "            WHERE dname = '{department}'\n",
    "            GROUP BY sex\n",
    "        '''\n",
    "    )\n",
    "    \n",
    "    sex, n = [], []\n",
    "    for x in res.fetchall():\n",
    "        sex.append(x[0])\n",
    "        n.append(x[1])\n",
    "    \n",
    "    p = [100 * i/sum(n) for i in n]\n",
    "    \n",
    "    plt.title(f'Percentage of employees in {department} department by sex')\n",
    "    plt.pie(\n",
    "        p, \n",
    "        labels=sex, \n",
    "        autopct='%1.1f%%',\n",
    "        textprops={'fontsize': 14},\n",
    "        colors=['blue', 'darkblue'],\n",
    "        shadow=True,\n",
    "        frame=False,\n",
    "        explode=tuple(.05 for i in range(len(n)))\n",
    "    );"
   ]
  },
  {
   "cell_type": "code",
   "execution_count": 41,
   "id": "5ef7cb1c-c3af-4677-8553-0f93787ca182",
   "metadata": {},
   "outputs": [
    {
     "name": "stdout",
     "output_type": "stream",
     "text": [
      "Departments: ['Headquarters', 'Administration', 'Research', 'Software', 'Hardware', 'Sales']\n"
     ]
    }
   ],
   "source": [
    "print(f'Departments: {dep}')"
   ]
  },
  {
   "cell_type": "code",
   "execution_count": 43,
   "id": "1311b8f2-0e13-4622-812f-113203a80e40",
   "metadata": {},
   "outputs": [
    {
     "data": {
      "image/png": "[encoded data removed]",
      "text/plain": [
       "<Figure size 640x480 with 1 Axes>"
      ]
     },
     "metadata": {},
     "output_type": "display_data"
    }
   ],
   "source": [
    "custom_pie(department=dep[2])"
   ]
  },
  {
   "cell_type": "code",
   "execution_count": 45,
   "id": "90dab9a2-9b31-4fdc-893f-702409a5b050",
   "metadata": {},
   "outputs": [],
   "source": [
    "perc = {}\n",
    "\n",
    "for d in dep:\n",
    "    res = con.execute(\n",
    "        f'''\n",
    "            SELECT sex, COUNT(sex) AS SEX FROM employee JOIN department\n",
    "                ON department.dnumber = employee.dno\n",
    "            WHERE dname = '{d}'\n",
    "            GROUP BY sex\n",
    "        '''\n",
    "    )\n",
    "    \n",
    "    sex, n = [], []\n",
    "    for x in res.fetchall():\n",
    "        sex.append(x[0])\n",
    "        n.append(x[1])\n",
    "    \n",
    "    p = [100 * i/sum(n) for i in n]\n",
    "\n",
    "    perc[d] = {'sex': sex, 'p': p}"
   ]
  },
  {
   "cell_type": "code",
   "execution_count": 61,
   "id": "4150f778-095e-4cd4-9194-0faf6d4db850",
   "metadata": {},
   "outputs": [
    {
     "data": {
      "image/png": "[encoded data removed]",
      "text/plain": [
       "<Figure size 600x400 with 6 Axes>"
      ]
     },
     "metadata": {},
     "output_type": "display_data"
    }
   ],
   "source": [
    "fig, axes = plt.subplots(nrows=2, ncols=3, figsize=(6,4))\n",
    "plt.suptitle('Percentage of employees in each department by sex')\n",
    "\n",
    "for (k,v), subplot in zip(perc.items(), axes.flatten()):\n",
    "    subplot.pie(\n",
    "        x=v.get('p'),\n",
    "        labels=v.get('sex'),\n",
    "        autopct='%1.1f%%',\n",
    "        colors=['blue', 'darkblue'],\n",
    "        shadow=True,\n",
    "        frame=False\n",
    "    )\n",
    "    subplot.set_title(k)"
   ]
  },
  {
   "cell_type": "code",
   "execution_count": 47,
   "id": "f70d3b6f-7c22-4483-aea4-b596b6e0d792",
   "metadata": {},
   "outputs": [],
   "source": [
    "import os\n",
    "\n",
    "def delete_file(file):\n",
    "\n",
    "    try:\n",
    "        con.close()\n",
    "    except NameError:\n",
    "        pass\n",
    "    \n",
    "    if os.path.exists(file):\n",
    "        os.remove(file)\n",
    "        print(f'File {file} deleted successfully!')\n",
    "    else:\n",
    "        print(f'The file {file} does not exist!')"
   ]
  },
  {
   "cell_type": "code",
   "execution_count": 49,
   "id": "630df35e-783a-40ad-91a8-d21919886632",
   "metadata": {},
   "outputs": [
    {
     "name": "stdout",
     "output_type": "stream",
     "text": [
      "File company.db deleted successfully!\n"
     ]
    }
   ],
   "source": [
    "delete_file(file='company.db')"
   ]
  }
 ],
 "metadata": {
  "kernelspec": {
   "display_name": "Python 3 (ipykernel)",
   "language": "python",
   "name": "python3"
  },
  "language_info": {
   "codemirror_mode": {
    "name": "ipython",
    "version": 3
   },
   "file_extension": ".py",
   "mimetype": "text/x-python",
   "name": "python",
   "nbconvert_exporter": "python",
   "pygments_lexer": "ipython3",
   "version": "3.12.4"
  }
 },
 "nbformat": 4,
 "nbformat_minor": 5
}
